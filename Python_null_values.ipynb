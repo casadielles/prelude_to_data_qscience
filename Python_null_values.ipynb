{
 "cells": [
  {
   "cell_type": "markdown",
   "metadata": {},
   "source": [
    "# Python null values"
   ]
  },
  {
   "cell_type": "markdown",
   "metadata": {},
   "source": [
    "###  ``None`` object"
   ]
  },
  {
   "cell_type": "code",
   "execution_count": 1,
   "metadata": {},
   "outputs": [
    {
     "name": "stdout",
     "output_type": "stream",
     "text": [
      "None\n"
     ]
    }
   ],
   "source": [
    "saussage = None\n",
    "\n",
    "print(saussage)"
   ]
  },
  {
   "cell_type": "markdown",
   "metadata": {},
   "source": [
    "A ``None Type`` is instanced only once. Indeed, we cannot create more that one ``None`` object. "
   ]
  },
  {
   "cell_type": "code",
   "execution_count": 2,
   "metadata": {},
   "outputs": [
    {
     "name": "stdout",
     "output_type": "stream",
     "text": [
      "2145235733264\n",
      "2145234091664\n",
      "140720587569328\n",
      "140720587569328\n"
     ]
    }
   ],
   "source": [
    "spam = 1.\n",
    "\n",
    "print(id(spam))\n",
    "\n",
    "egg = 1.\n",
    "\n",
    "print(id(egg))\n",
    "\n",
    "oruxo = None\n",
    "\n",
    "print(id(oruxo))\n",
    "\n",
    "bacalao = None\n",
    "\n",
    "print(id(bacalao))"
   ]
  },
  {
   "cell_type": "markdown",
   "metadata": {},
   "source": [
    "### ``is`` and ``==`` statements\n",
    "\n",
    "The ``is`` statement tests if the object the variables are pointing to is the same <br>\n",
    "The ``==`` statement tests if the value represented by the object the variables are pointing to is the same."
   ]
  },
  {
   "cell_type": "code",
   "execution_count": 3,
   "metadata": {},
   "outputs": [
    {
     "name": "stdout",
     "output_type": "stream",
     "text": [
      "False\n",
      "True\n"
     ]
    }
   ],
   "source": [
    "print(spam is egg)\n",
    "print(spam == egg)"
   ]
  },
  {
   "cell_type": "markdown",
   "metadata": {},
   "source": [
    "``None`` object is equal to itself and the value it represents, too."
   ]
  },
  {
   "cell_type": "code",
   "execution_count": 4,
   "metadata": {},
   "outputs": [
    {
     "name": "stdout",
     "output_type": "stream",
     "text": [
      "True\n",
      "True\n"
     ]
    }
   ],
   "source": [
    "print(oruxo is bacalao)\n",
    "print(oruxo == bacalao)"
   ]
  },
  {
   "cell_type": "markdown",
   "metadata": {},
   "source": [
    "## ``NaN`` floating-point value"
   ]
  },
  {
   "cell_type": "markdown",
   "metadata": {},
   "source": [
    "``Nan`` stands for *Not A Number* and represents failures in data representation. <br>\n",
    "It is a special floating-point value that cannot be converted to any other type than float. "
   ]
  },
  {
   "cell_type": "code",
   "execution_count": 5,
   "metadata": {},
   "outputs": [
    {
     "name": "stdout",
     "output_type": "stream",
     "text": [
      "<class 'float'>\n",
      "nan\n"
     ]
    }
   ],
   "source": [
    "print(type(float('nan')))\n",
    "print(float('nan'))"
   ]
  },
  {
   "cell_type": "code",
   "execution_count": 6,
   "metadata": {},
   "outputs": [
    {
     "data": {
      "text/plain": [
       "float"
      ]
     },
     "execution_count": 6,
     "metadata": {},
     "output_type": "execute_result"
    }
   ],
   "source": [
    "from math import nan\n",
    "\n",
    "type(nan)"
   ]
  },
  {
   "cell_type": "code",
   "execution_count": 7,
   "metadata": {},
   "outputs": [
    {
     "data": {
      "text/plain": [
       "float"
      ]
     },
     "execution_count": 7,
     "metadata": {},
     "output_type": "execute_result"
    }
   ],
   "source": [
    "import numpy as np\n",
    "\n",
    "type(np.nan) "
   ]
  },
  {
   "cell_type": "code",
   "execution_count": 8,
   "metadata": {
    "scrolled": true
   },
   "outputs": [
    {
     "ename": "ValueError",
     "evalue": "cannot convert float NaN to integer",
     "output_type": "error",
     "traceback": [
      "\u001b[1;31m---------------------------------------------------------------------------\u001b[0m",
      "\u001b[1;31mValueError\u001b[0m                                Traceback (most recent call last)",
      "\u001b[1;32m<ipython-input-8-2a7b98dbed62>\u001b[0m in \u001b[0;36m<module>\u001b[1;34m\u001b[0m\n\u001b[1;32m----> 1\u001b[1;33m \u001b[0mint\u001b[0m\u001b[1;33m(\u001b[0m\u001b[0mnp\u001b[0m\u001b[1;33m.\u001b[0m\u001b[0mnan\u001b[0m\u001b[1;33m)\u001b[0m\u001b[1;33m\u001b[0m\u001b[1;33m\u001b[0m\u001b[0m\n\u001b[0m",
      "\u001b[1;31mValueError\u001b[0m: cannot convert float NaN to integer"
     ]
    }
   ],
   "source": [
    "int(np.nan) "
   ]
  },
  {
   "cell_type": "markdown",
   "metadata": {},
   "source": [
    "###  ``NaN`` propagates like a virus. This is very useful for tracking data failures.  "
   ]
  },
  {
   "cell_type": "code",
   "execution_count": 9,
   "metadata": {},
   "outputs": [
    {
     "name": "stdout",
     "output_type": "stream",
     "text": [
      "nan\n",
      "<class 'float'>\n",
      "nanhola\n"
     ]
    }
   ],
   "source": [
    "fabes = nan + 1 \n",
    "\n",
    "print(fabes)\n",
    "print(type(fabes))\n",
    "print(str(fabes) + \"hola\")"
   ]
  },
  {
   "cell_type": "markdown",
   "metadata": {},
   "source": [
    "``NaN`` is not equal to itself because NaN represents a failure, but a failure can happen in multiple ways. \n",
    "<br>\n",
    "<br>\n",
    "In the case you create a ``NaN`` object using ``np.nan`` of ``nan`` (after importing nan from math), \n",
    "taking into account the property of \"non-identity\", you can think of ``NaN`` object as an instance of a special float type that can be instanced only once, like in the case of None Type.\n"
   ]
  },
  {
   "cell_type": "code",
   "execution_count": 10,
   "metadata": {},
   "outputs": [
    {
     "name": "stdout",
     "output_type": "stream",
     "text": [
      "True\n"
     ]
    }
   ],
   "source": [
    "ham = np.nan\n",
    "\n",
    "sausage = np.nan\n",
    "\n",
    "print(id(ham) == id(sausage) )"
   ]
  },
  {
   "cell_type": "markdown",
   "metadata": {},
   "source": [
    "In the case you create a ``NaN`` object using ``float('nan')``, a new object is created in each call. "
   ]
  },
  {
   "cell_type": "code",
   "execution_count": 11,
   "metadata": {},
   "outputs": [
    {
     "name": "stdout",
     "output_type": "stream",
     "text": [
      "False\n"
     ]
    }
   ],
   "source": [
    "ham = float('nan')\n",
    "\n",
    "sausage = float('nan')\n",
    "\n",
    "print(id(ham) == id(sausage) )"
   ]
  },
  {
   "cell_type": "code",
   "execution_count": 12,
   "metadata": {},
   "outputs": [
    {
     "name": "stdout",
     "output_type": "stream",
     "text": [
      "False\n",
      "True\n",
      "False\n",
      "True\n",
      "True\n"
     ]
    }
   ],
   "source": [
    "print(np.nan == np.nan)\n",
    "\n",
    "print(id(np.nan) == id(np.nan))\n",
    "\n",
    "bocatas = np.nan\n",
    "\n",
    "casadielles = np.nan\n",
    "\n",
    "print(casadielles == bocatas)\n",
    "\n",
    "print(id(casadielles) == id(bocatas))\n",
    "\n",
    "print(casadielles is bocatas)\n"
   ]
  },
  {
   "cell_type": "markdown",
   "metadata": {},
   "source": [
    "At first sight, because the \"non-identity\" property, it seems difficult to test if a value is ``NaN``. You can use one of the following alternatives for doing that: "
   ]
  },
  {
   "cell_type": "code",
   "execution_count": 13,
   "metadata": {},
   "outputs": [
    {
     "name": "stdout",
     "output_type": "stream",
     "text": [
      "False\n",
      "False\n",
      "False\n"
     ]
    }
   ],
   "source": [
    "print(np.isnan(spam))\n",
    "\n",
    "import pandas as pd\n",
    "\n",
    "print(pd.isna(spam))\n",
    "\n",
    "print(pd.isnull(spam))"
   ]
  }
 ],
 "metadata": {
  "kernelspec": {
   "display_name": "Python 3",
   "language": "python",
   "name": "python3"
  },
  "language_info": {
   "codemirror_mode": {
    "name": "ipython",
    "version": 3
   },
   "file_extension": ".py",
   "mimetype": "text/x-python",
   "name": "python",
   "nbconvert_exporter": "python",
   "pygments_lexer": "ipython3",
   "version": "3.8.5"
  }
 },
 "nbformat": 4,
 "nbformat_minor": 4
}
